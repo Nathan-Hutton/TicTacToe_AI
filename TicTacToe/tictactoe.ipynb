{
 "cells": [
  {
   "cell_type": "markdown",
   "metadata": {},
   "source": [
    "# Tic Tac Toe\n",
    "\n",
    "We start with defining the abstract class `Game`, for turn-taking *n*-player games. We rely on, but do not define yet, the concept of a `state` of the game; we'll see later how individual games define states. For now, all we require is that a state has a `state.to_move` attribute, which gives the name of the player whose turn it is. (\"Name\" will be something like `'X'` or `'O'` for tic-tac-toe.) \n",
    "\n",
    "We also define `play_game`, which takes a game and a dictionary of  `{player_name: strategy_function}` pairs, and plays out the game, on each turn checking `state.to_move` to see whose turn it is, and then getting the strategy function for that player and applying it to the game and the state to get a move."
   ]
  },
  {
   "cell_type": "code",
   "execution_count": 1,
   "metadata": {},
   "outputs": [],
   "source": [
    "from collections import namedtuple, Counter, defaultdict\n",
    "import random\n",
    "import math\n",
    "import functools \n",
    "cache = functools.lru_cache(10**6)"
   ]
  },
  {
   "cell_type": "code",
   "execution_count": 2,
   "metadata": {},
   "outputs": [],
   "source": [
    "class Game:\n",
    "    \"\"\"A game is similar to a problem, but it has a terminal test instead of \n",
    "    a goal test, and a utility for each terminal state. To create a game, \n",
    "    subclass this class and implement `actions`, `result`, `is_terminal`, \n",
    "    and `utility`. You will also need to set the .initial attribute to the \n",
    "    initial state; this can be done in the constructor.\"\"\"\n",
    "\n",
    "    def actions(self, state):\n",
    "        \"\"\"Return a collection of the allowable moves from this state.\"\"\"\n",
    "        raise NotImplementedError\n",
    "\n",
    "    def result(self, state, move):\n",
    "        \"\"\"Return the state that results from making a move from a state.\"\"\"\n",
    "        raise NotImplementedError\n",
    "\n",
    "    def is_terminal(self, state):\n",
    "        \"\"\"Return True if this is a final state for the game.\"\"\"\n",
    "        return not self.actions(state)\n",
    "    \n",
    "    def utility(self, state, player):\n",
    "        \"\"\"Return the value of this final state to player.\"\"\"\n",
    "        raise NotImplementedError\n",
    "        \n",
    "\n",
    "def play_game(game, strategies: dict, verbose=False):\n",
    "    \"\"\"Play a turn-taking game. `strategies` is a {player_name: function} dict,\n",
    "    where function(state, game) is used to get the player's move.\"\"\"\n",
    "    for y in range(3):\n",
    "        for x in range(3):\n",
    "            print(y*3+x+1, end=\" \")\n",
    "        print()\n",
    "        \n",
    "    state = game.initial\n",
    "    while not game.is_terminal(state):\n",
    "        player = state.to_move\n",
    "        move = strategies[player](game, state)\n",
    "        state = game.result(state, move)\n",
    "        if verbose: \n",
    "            print('Player', player, 'move:', move[1]*3+move[0]+1)\n",
    "            print(state)\n",
    "    return state"
   ]
  },
  {
   "cell_type": "markdown",
   "metadata": {},
   "source": [
    "# Minimax-Based Game Search Algorithms\n",
    "\n",
    "We will define several game search algorithms. Each takes two inputs, the game we are playing and the current state of the game, and returns a a `(value, move)` pair, where `value` is the utility that the algorithm computes for the player whose turn it is to move, and `move` is the move itself.\n",
    "\n",
    "First we define `minimax_search`, which exhaustively searches the game tree to find an optimal move (assuming both players play optimally), and `alphabeta_search`, which does the same computation, but prunes parts of the tree that could not possibly have an affect on the optimnal move.  "
   ]
  },
  {
   "cell_type": "markdown",
   "metadata": {},
   "source": [
    "All you need to write your code is here. **Do not modify anything in other code cells.**\n",
    "\n",
    "#### - minimax_search is required.\n",
    "#### - alphabeta_search is optional. "
   ]
  },
  {
   "cell_type": "code",
   "execution_count": 3,
   "metadata": {},
   "outputs": [],
   "source": [
    "infinity = math.inf\n",
    "\n",
    "def minimax_search(game, state):\n",
    "    \"\"\"Search game tree to determine best move; return (value, move) pair.\"\"\"\n",
    "    # Input: game, state\n",
    "    # Output: utility, move \n",
    "\n",
    "    player = state.to_move\n",
    "\n",
    "    def max_value(state):\n",
    "        highest_utility = -infinity\n",
    "        best_action = None\n",
    "        \n",
    "        for action in game.actions(state):\n",
    "            result = game.result(state, action)\n",
    "            \n",
    "            if not game.is_terminal(result):\n",
    "                result_utility = min_value(result)[0]\n",
    "            else:\n",
    "                result_utility = game.utility(result, player)\n",
    "                \n",
    "            if result_utility > highest_utility:\n",
    "                highest_utility = result_utility\n",
    "                best_action = action\n",
    "                \n",
    "        return (highest_utility, best_action)\n",
    "\n",
    "    def min_value(state):\n",
    "        lowest_utility = infinity\n",
    "        best_action = None\n",
    "        \n",
    "        for action in game.actions(state):\n",
    "            result = game.result(state, action)\n",
    "            \n",
    "            if not game.is_terminal(result):\n",
    "                result_utility = max_value(result)[0]\n",
    "            else:\n",
    "                result_utility = game.utility(result, player)\n",
    "                \n",
    "            if result_utility < lowest_utility:\n",
    "                lowest_utility = result_utility\n",
    "                best_action = action\n",
    "                \n",
    "        return (lowest_utility, best_action)\n",
    "\n",
    "    return max_value(state)\n",
    "\n",
    "def alphabeta_search(game, state):\n",
    "    \"\"\"Search game to determine best action; use alpha-beta pruning.\"\"\"\n",
    "\n",
    "    player = state.to_move\n",
    "\n",
    "    def max_value(state, alpha, beta):\n",
    "        # your code goes here:\n",
    "        pass\n",
    "\n",
    "    def min_value(state, alpha, beta):\n",
    "        # your code goes here:\n",
    "        pass\n",
    "\n",
    "    return max_value(state, -infinity, +infinity)"
   ]
  },
  {
   "cell_type": "markdown",
   "metadata": {},
   "source": [
    "# A Simple Game: Tic-Tac-Toe\n",
    "\n",
    "We have the notion of an abstract game, we have some search functions; now it is time to define a real game; a simple one, tic-tac-toe. Moves are `(x, y)` pairs denoting squares, where `(0, 0)` is the top left, and `(2, 2)` is the bottom right (on a board of size `height=width=3`)."
   ]
  },
  {
   "cell_type": "code",
   "execution_count": 4,
   "metadata": {},
   "outputs": [],
   "source": [
    "class TicTacToe(Game):\n",
    "    \"\"\"Play TicTacToe on an `height` by `width` board, needing `k` in a row to win.\n",
    "    'X' plays first against 'O'.\"\"\"\n",
    "    # state of the game is board\n",
    "    # board is a dictionary with format {(i,j): player}\n",
    "    # board has attribute current player .to_move and utility .utility\n",
    "\n",
    "    def __init__(self, height=3, width=3, k=3):\n",
    "        self.k = k # k in a row\n",
    "        self.squares = {(x, y) for x in range(width) for y in range(height)}\n",
    "        self.initial = Board(height=height, width=width, to_move='X', utility=0) # utility is **kwds \n",
    "\n",
    "    def actions(self, board):\n",
    "        \"\"\"Legal moves are any square not yet taken.\"\"\"\n",
    "        # actions is a list of positions (i,j) \n",
    "        return self.squares - set(board)\n",
    "\n",
    "    def result(self, board, square):\n",
    "        \"\"\"Place a marker for current player on square.\"\"\"\n",
    "        # apply one action square on current board by updating the dictinoary of the board with square.\n",
    "        # return a new created board. \n",
    "        player = board.to_move\n",
    "        board = board.new({square: player}, to_move=('O' if player == 'X' else 'X'))\n",
    "        win = k_in_row(board, player, square, self.k)\n",
    "        board.utility = (0 if not win else +1 if player == 'X' else -1) # update the utility if win \n",
    "        return board\n",
    "\n",
    "    def utility(self, board, player):\n",
    "        \"\"\"Return the value to player; 1 for win, -1 for loss, 0 otherwise.\"\"\"\n",
    "        return board.utility if player == 'X' else -board.utility\n",
    "\n",
    "    def is_terminal(self, board):\n",
    "        \"\"\"A board is a terminal state if it is won or there are no empty squares.\"\"\"\n",
    "        return board.utility != 0 or len(self.squares) == len(board)\n",
    "\n",
    "def k_in_row(board, player, square, k):\n",
    "    \"\"\"True if player has k pieces in a line through square.\"\"\"\n",
    "    def in_row(x, y, dx, dy): return 0 if board[x, y] != player else 1 + in_row(x + dx, y + dy, dx, dy)\n",
    "    return any(in_row(*square, dx, dy) + in_row(*square, -dx, -dy) - 1 >= k\n",
    "               for (dx, dy) in ((0, 1), (1, 0), (1, 1), (1, -1)))"
   ]
  },
  {
   "cell_type": "markdown",
   "metadata": {},
   "source": [
    "States in tic-tac-toe (and other games) will be represented as a `Board`, which is a subclass of `defaultdict` that in general will consist of `{(x, y): contents}` pairs, for example `{(0, 0): 'X', (1, 1): 'O'}` might be the state of the board after two moves. Besides the contents of squares, a board also has some attributes: \n",
    "- `.to_move` to name the player whose move it is; \n",
    "- `.width` and `.height` to give the size of the board (both 3 in tic-tac-toe, but other numbers in related games);\n",
    "- possibly other attributes, as specified by keywords. \n",
    "\n",
    "As a `defaultdict`, the `Board` class has a `__missing__` method, which returns `empty` for squares that have no been assigned but are within the `width` × `height` boundaries, or `off` otherwise. The class has a `__hash__` method, so instances can be stored in hash tables."
   ]
  },
  {
   "cell_type": "code",
   "execution_count": 5,
   "metadata": {},
   "outputs": [],
   "source": [
    "class Board(defaultdict):\n",
    "    \"\"\"A board has the player to move, a cached utility value, \n",
    "    and a dict of {(x, y): player} entries, where player is 'X' or 'O'.\"\"\"\n",
    "    empty = '.'\n",
    "    off = '#'\n",
    "    \n",
    "    def __init__(self, width=8, height=8, to_move=None, **kwds):\n",
    "        self.__dict__.update(width=width, height=height, to_move=to_move, **kwds)\n",
    "        \n",
    "    def new(self, changes: dict, **kwds) -> 'Board':\n",
    "        \"Given a dict of {(x, y): contents} changes, return a new Board with the changes.\"\n",
    "        # Create and return a new board as state after every change. \n",
    "        board = Board(width=self.width, height=self.height, **kwds)\n",
    "        board.update(self) \n",
    "        board.update(changes)\n",
    "        return board\n",
    "\n",
    "    def __missing__(self, loc):\n",
    "        x, y = loc\n",
    "        if 0 <= x < self.width and 0 <= y < self.height:\n",
    "            return str(y*3+x+1)\n",
    "        else:\n",
    "            return self.off\n",
    "            \n",
    "    def __hash__(self): \n",
    "        return hash(tuple(sorted(self.items()))) + hash(self.to_move)\n",
    "    \n",
    "    def __repr__(self):\n",
    "        def row(y): return ' '.join(self[x, y] for x in range(self.width))\n",
    "        return '\\n'.join(map(row, range(self.height))) +  '\\n'"
   ]
  },
  {
   "cell_type": "markdown",
   "metadata": {},
   "source": [
    "# Players\n",
    "\n",
    "We need an interface for players. I'll represent a player as a `callable` that will be passed two arguments: `(game, state)` and will return a `move`.\n",
    "The function `player` creates a player out of a search algorithm, but you can create your own players as functions, as is done with `random_player` below:"
   ]
  },
  {
   "cell_type": "code",
   "execution_count": 6,
   "metadata": {},
   "outputs": [],
   "source": [
    "def random_player(game, state): return random.choice(list(game.actions(state)))\n",
    "\n",
    "def player(search_algorithm):\n",
    "    \"\"\"A game player who uses the specified search algorithm\"\"\"\n",
    "    # Only return the move, not the value of utility. \n",
    "    return lambda game, state: search_algorithm(game, state)[1]\n",
    "\n",
    "def human_player(game, state):\n",
    "    while True:\n",
    "        pos_raw = input(\"Please input a new position 1-9:\")\n",
    "        pos = [int(i) for i in pos_raw.split()]\n",
    "        if len(pos) != 1:\n",
    "            print(\"Please input only one number!\")\n",
    "        else:\n",
    "            pos = pos[0]\n",
    "            if pos < 1 or pos > 9:\n",
    "                print(\"Please input a number between 1 and 9!\")\n",
    "            else:\n",
    "                # top left is 0 0 and bottom right is 2 2\n",
    "                x,y = (pos-1)%3,(pos-1)//3\n",
    "                if (x,y) not in game.actions(state):\n",
    "                    print(\"Please input an available position!\")\n",
    "                else:\n",
    "                    return (x,y)"
   ]
  },
  {
   "cell_type": "markdown",
   "metadata": {
    "tags": []
   },
   "source": [
    "# Playing a Game\n",
    "\n",
    "We're ready to play a game. I'll set up a match between a `human player` or `random_player` (who chooses randomly from the legal moves) and a `player(minimax_search)` (who makes the optimal minimax move; practical for tic-tac-toe, but not for large games). The `player(minimax_search)` will never lose, but if `random_player` is lucky, it will be a tie."
   ]
  },
  {
   "cell_type": "markdown",
   "metadata": {},
   "source": [
    "The minimax_search or alpha-beta player will never lose, but sometimes the random player can stumble into a draw. When two optimal (alpha-beta or minimax) players compete, it will always be a draw."
   ]
  },
  {
   "cell_type": "markdown",
   "metadata": {},
   "source": [
    "Without building your own code, you can always play against random player. \n",
    "\n",
    "There are three outcomes of the game represeted by three numbers:\n",
    "\n",
    "- 1 means first player wins the game\n",
    "- -1 means first player loses the game\n",
    "- 0 means draw\n",
    "\n",
    "If you or the random player wins over the minimax or alphabeta player, your code **must be wrong**. "
   ]
  },
  {
   "cell_type": "markdown",
   "metadata": {},
   "source": [
    "### Human Player VS Random Player"
   ]
  },
  {
   "cell_type": "code",
   "execution_count": 7,
   "metadata": {},
   "outputs": [
    {
     "name": "stdout",
     "output_type": "stream",
     "text": [
      "1 2 3 \n",
      "4 5 6 \n",
      "7 8 9 \n"
     ]
    },
    {
     "name": "stdin",
     "output_type": "stream",
     "text": [
      "Please input a new position 1-9: 5\n"
     ]
    },
    {
     "name": "stdout",
     "output_type": "stream",
     "text": [
      "Player X move: 5\n",
      "1 2 3\n",
      "4 X 6\n",
      "7 8 9\n",
      "\n",
      "Player O move: 4\n",
      "1 2 3\n",
      "O X 6\n",
      "7 8 9\n",
      "\n"
     ]
    },
    {
     "name": "stdin",
     "output_type": "stream",
     "text": [
      "Please input a new position 1-9: 7\n"
     ]
    },
    {
     "name": "stdout",
     "output_type": "stream",
     "text": [
      "Player X move: 7\n",
      "1 2 3\n",
      "O X 6\n",
      "X 8 9\n",
      "\n",
      "Player O move: 1\n",
      "O 2 3\n",
      "O X 6\n",
      "X 8 9\n",
      "\n"
     ]
    },
    {
     "name": "stdin",
     "output_type": "stream",
     "text": [
      "Please input a new position 1-9: 3\n"
     ]
    },
    {
     "name": "stdout",
     "output_type": "stream",
     "text": [
      "Player X move: 3\n",
      "O 2 X\n",
      "O X 6\n",
      "X 8 9\n",
      "\n"
     ]
    },
    {
     "data": {
      "text/plain": [
       "1"
      ]
     },
     "execution_count": 7,
     "metadata": {},
     "output_type": "execute_result"
    }
   ],
   "source": [
    "play_game(TicTacToe(), dict(X=human_player, O=random_player), verbose=True).utility"
   ]
  },
  {
   "cell_type": "markdown",
   "metadata": {},
   "source": [
    "### Human Player VS Minimax\n",
    "\n",
    "You never can win the game."
   ]
  },
  {
   "cell_type": "code",
   "execution_count": 8,
   "metadata": {},
   "outputs": [
    {
     "name": "stdout",
     "output_type": "stream",
     "text": [
      "1 2 3 \n",
      "4 5 6 \n",
      "7 8 9 \n"
     ]
    },
    {
     "name": "stdin",
     "output_type": "stream",
     "text": [
      "Please input a new position 1-9: 5\n"
     ]
    },
    {
     "name": "stdout",
     "output_type": "stream",
     "text": [
      "Player X move: 5\n",
      "1 2 3\n",
      "4 X 6\n",
      "7 8 9\n",
      "\n",
      "Player O move: 1\n",
      "O 2 3\n",
      "4 X 6\n",
      "7 8 9\n",
      "\n"
     ]
    },
    {
     "name": "stdin",
     "output_type": "stream",
     "text": [
      "Please input a new position 1-9: 7\n"
     ]
    },
    {
     "name": "stdout",
     "output_type": "stream",
     "text": [
      "Player X move: 7\n",
      "O 2 3\n",
      "4 X 6\n",
      "X 8 9\n",
      "\n",
      "Player O move: 3\n",
      "O 2 O\n",
      "4 X 6\n",
      "X 8 9\n",
      "\n"
     ]
    },
    {
     "name": "stdin",
     "output_type": "stream",
     "text": [
      "Please input a new position 1-9: 6\n"
     ]
    },
    {
     "name": "stdout",
     "output_type": "stream",
     "text": [
      "Player X move: 6\n",
      "O 2 O\n",
      "4 X X\n",
      "X 8 9\n",
      "\n",
      "Player O move: 2\n",
      "O O O\n",
      "4 X X\n",
      "X 8 9\n",
      "\n"
     ]
    },
    {
     "data": {
      "text/plain": [
       "-1"
      ]
     },
     "execution_count": 8,
     "metadata": {},
     "output_type": "execute_result"
    }
   ],
   "source": [
    "play_game(TicTacToe(), dict(X=human_player, O=player(minimax_search)), verbose=True).utility"
   ]
  },
  {
   "cell_type": "markdown",
   "metadata": {},
   "source": [
    "### Minimax VS Human Player\n",
    "\n",
    "You never can win the game. The first move of Minimax may require a few seconds."
   ]
  },
  {
   "cell_type": "code",
   "execution_count": 11,
   "metadata": {},
   "outputs": [
    {
     "name": "stdout",
     "output_type": "stream",
     "text": [
      "1 2 3 \n",
      "4 5 6 \n",
      "7 8 9 \n",
      "Player X move: 4\n",
      "1 2 3\n",
      "X 5 6\n",
      "7 8 9\n",
      "\n"
     ]
    },
    {
     "name": "stdin",
     "output_type": "stream",
     "text": [
      "Please input a new position 1-9: 5\n"
     ]
    },
    {
     "name": "stdout",
     "output_type": "stream",
     "text": [
      "Player O move: 5\n",
      "1 2 3\n",
      "X O 6\n",
      "7 8 9\n",
      "\n",
      "Player X move: 8\n",
      "1 2 3\n",
      "X O 6\n",
      "7 X 9\n",
      "\n"
     ]
    },
    {
     "name": "stdin",
     "output_type": "stream",
     "text": [
      "Please input a new position 1-9: 3\n"
     ]
    },
    {
     "name": "stdout",
     "output_type": "stream",
     "text": [
      "Player O move: 3\n",
      "1 2 O\n",
      "X O 6\n",
      "7 X 9\n",
      "\n",
      "Player X move: 7\n",
      "1 2 O\n",
      "X O 6\n",
      "X X 9\n",
      "\n"
     ]
    },
    {
     "name": "stdin",
     "output_type": "stream",
     "text": [
      "Please input a new position 1-9: 9\n"
     ]
    },
    {
     "name": "stdout",
     "output_type": "stream",
     "text": [
      "Player O move: 9\n",
      "1 2 O\n",
      "X O 6\n",
      "X X O\n",
      "\n",
      "Player X move: 1\n",
      "X 2 O\n",
      "X O 6\n",
      "X X O\n",
      "\n"
     ]
    },
    {
     "data": {
      "text/plain": [
       "1"
      ]
     },
     "execution_count": 11,
     "metadata": {},
     "output_type": "execute_result"
    }
   ],
   "source": [
    "play_game(TicTacToe(), dict(X=player(minimax_search), O=human_player), verbose=True).utility"
   ]
  },
  {
   "cell_type": "markdown",
   "metadata": {},
   "source": [
    "### Alphabeta Search VS Human Player\n",
    "\n",
    "You never can win the game. Alphabeta moves faster then Minimax."
   ]
  },
  {
   "cell_type": "code",
   "execution_count": null,
   "metadata": {},
   "outputs": [],
   "source": [
    "play_game(TicTacToe(), dict(X=player(alphabeta_search), O=human_player), verbose=True).utility"
   ]
  },
  {
   "cell_type": "markdown",
   "metadata": {},
   "source": [
    "### Alphabeta Search VS Minimax\n",
    "\n",
    "It will be always a draw."
   ]
  },
  {
   "cell_type": "code",
   "execution_count": null,
   "metadata": {},
   "outputs": [],
   "source": [
    "play_game(TicTacToe(), dict(X=player(alphabeta_search), O=player(minimax_search)), verbose=True).utility"
   ]
  }
 ],
 "metadata": {
  "kernelspec": {
   "display_name": "Python 3 (ipykernel)",
   "language": "python",
   "name": "python3"
  },
  "language_info": {
   "codemirror_mode": {
    "name": "ipython",
    "version": 3
   },
   "file_extension": ".py",
   "mimetype": "text/x-python",
   "name": "python",
   "nbconvert_exporter": "python",
   "pygments_lexer": "ipython3",
   "version": "3.9.12"
  }
 },
 "nbformat": 4,
 "nbformat_minor": 4
}
